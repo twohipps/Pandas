{
 "cells": [
  {
   "cell_type": "code",
   "execution_count": null,
   "metadata": {},
   "outputs": [],
   "source": [
    "#Hipps"
   ]
  },
  {
   "cell_type": "markdown",
   "metadata": {},
   "source": [
    "# Observable Trends:"
   ]
  },
  {
   "cell_type": "raw",
   "metadata": {},
   "source": [
    "    1.\tAccording to this data male players are more likely to purchase items than all other players. There are 576 players, 484 of which are male. A total of 780 purchases were made. Male players accounted for over half of those purchases at 484 with a total value of $1967.64 making up 84.03% of the total purchases.\n",
    "    \n",
    "2.\tAges 20-24 purchased the most items with 365 purchases at a total value of $1114.06.\n",
    "\n",
    "3.\tOathbreaker, Last Hope of the Breaking Storm was the most popular and most profitable item. \n"
   ]
  },
  {
   "cell_type": "code",
   "execution_count": 26,
   "metadata": {},
   "outputs": [],
   "source": [
    "# import dependencies\n",
    "\n",
    "import pandas as pd\n",
    "import numpy as np\n"
   ]
  },
  {
   "cell_type": "code",
   "execution_count": 29,
   "metadata": {},
   "outputs": [],
   "source": [
    "file = \"Resources/purchase_data.csv\""
   ]
  },
  {
   "cell_type": "code",
   "execution_count": 31,
   "metadata": {},
   "outputs": [
    {
     "data": {
      "text/html": [
       "<div>\n",
       "<style scoped>\n",
       "    .dataframe tbody tr th:only-of-type {\n",
       "        vertical-align: middle;\n",
       "    }\n",
       "\n",
       "    .dataframe tbody tr th {\n",
       "        vertical-align: top;\n",
       "    }\n",
       "\n",
       "    .dataframe thead th {\n",
       "        text-align: right;\n",
       "    }\n",
       "</style>\n",
       "<table border=\"1\" class=\"dataframe\">\n",
       "  <thead>\n",
       "    <tr style=\"text-align: right;\">\n",
       "      <th></th>\n",
       "      <th>Purchase ID</th>\n",
       "      <th>SN</th>\n",
       "      <th>Age</th>\n",
       "      <th>Gender</th>\n",
       "      <th>Item ID</th>\n",
       "      <th>Item Name</th>\n",
       "      <th>Price</th>\n",
       "    </tr>\n",
       "  </thead>\n",
       "  <tbody>\n",
       "    <tr>\n",
       "      <th>0</th>\n",
       "      <td>0</td>\n",
       "      <td>Lisim78</td>\n",
       "      <td>20</td>\n",
       "      <td>Male</td>\n",
       "      <td>108</td>\n",
       "      <td>Extraction, Quickblade Of Trembling Hands</td>\n",
       "      <td>3.53</td>\n",
       "    </tr>\n",
       "    <tr>\n",
       "      <th>1</th>\n",
       "      <td>1</td>\n",
       "      <td>Lisovynya38</td>\n",
       "      <td>40</td>\n",
       "      <td>Male</td>\n",
       "      <td>143</td>\n",
       "      <td>Frenzied Scimitar</td>\n",
       "      <td>1.56</td>\n",
       "    </tr>\n",
       "    <tr>\n",
       "      <th>2</th>\n",
       "      <td>2</td>\n",
       "      <td>Ithergue48</td>\n",
       "      <td>24</td>\n",
       "      <td>Male</td>\n",
       "      <td>92</td>\n",
       "      <td>Final Critic</td>\n",
       "      <td>4.88</td>\n",
       "    </tr>\n",
       "    <tr>\n",
       "      <th>3</th>\n",
       "      <td>3</td>\n",
       "      <td>Chamassasya86</td>\n",
       "      <td>24</td>\n",
       "      <td>Male</td>\n",
       "      <td>100</td>\n",
       "      <td>Blindscythe</td>\n",
       "      <td>3.27</td>\n",
       "    </tr>\n",
       "    <tr>\n",
       "      <th>4</th>\n",
       "      <td>4</td>\n",
       "      <td>Iskosia90</td>\n",
       "      <td>23</td>\n",
       "      <td>Male</td>\n",
       "      <td>131</td>\n",
       "      <td>Fury</td>\n",
       "      <td>1.44</td>\n",
       "    </tr>\n",
       "  </tbody>\n",
       "</table>\n",
       "</div>"
      ],
      "text/plain": [
       "   Purchase ID             SN  Age Gender  Item ID  \\\n",
       "0            0        Lisim78   20   Male      108   \n",
       "1            1    Lisovynya38   40   Male      143   \n",
       "2            2     Ithergue48   24   Male       92   \n",
       "3            3  Chamassasya86   24   Male      100   \n",
       "4            4      Iskosia90   23   Male      131   \n",
       "\n",
       "                                   Item Name  Price  \n",
       "0  Extraction, Quickblade Of Trembling Hands   3.53  \n",
       "1                          Frenzied Scimitar   1.56  \n",
       "2                               Final Critic   4.88  \n",
       "3                                Blindscythe   3.27  \n",
       "4                                       Fury   1.44  "
      ]
     },
     "execution_count": 31,
     "metadata": {},
     "output_type": "execute_result"
    }
   ],
   "source": [
    "df = pd.read_csv(file) \n",
    "df.head()"
   ]
  },
  {
   "cell_type": "code",
   "execution_count": 32,
   "metadata": {},
   "outputs": [
    {
     "data": {
      "text/plain": [
       "Index(['Purchase ID', 'SN', 'Age', 'Gender', 'Item ID', 'Item Name', 'Price'], dtype='object')"
      ]
     },
     "execution_count": 32,
     "metadata": {},
     "output_type": "execute_result"
    }
   ],
   "source": [
    "df.columns"
   ]
  },
  {
   "cell_type": "markdown",
   "metadata": {},
   "source": [
    "# Player Count"
   ]
  },
  {
   "cell_type": "code",
   "execution_count": 33,
   "metadata": {},
   "outputs": [
    {
     "data": {
      "text/html": [
       "<div>\n",
       "<style scoped>\n",
       "    .dataframe tbody tr th:only-of-type {\n",
       "        vertical-align: middle;\n",
       "    }\n",
       "\n",
       "    .dataframe tbody tr th {\n",
       "        vertical-align: top;\n",
       "    }\n",
       "\n",
       "    .dataframe thead th {\n",
       "        text-align: right;\n",
       "    }\n",
       "</style>\n",
       "<table border=\"1\" class=\"dataframe\">\n",
       "  <thead>\n",
       "    <tr style=\"text-align: right;\">\n",
       "      <th></th>\n",
       "      <th>Total Players</th>\n",
       "    </tr>\n",
       "  </thead>\n",
       "  <tbody>\n",
       "    <tr>\n",
       "      <th>0</th>\n",
       "      <td>576</td>\n",
       "    </tr>\n",
       "  </tbody>\n",
       "</table>\n",
       "</div>"
      ],
      "text/plain": [
       "   Total Players\n",
       "0            576"
      ]
     },
     "execution_count": 33,
     "metadata": {},
     "output_type": "execute_result"
    }
   ],
   "source": [
    "#total number of players\n",
    "uniqueplayers = df['SN'].nunique()\n",
    "total_players_final = pd.DataFrame({\"Total Players\": [uniqueplayers]}, columns= [\"Total Players\"])\n",
    "total_players_final"
   ]
  },
  {
   "cell_type": "markdown",
   "metadata": {},
   "source": [
    "# Purchase Analysis (Total)"
   ]
  },
  {
   "cell_type": "code",
   "execution_count": 34,
   "metadata": {},
   "outputs": [
    {
     "data": {
      "text/html": [
       "<style  type=\"text/css\" >\n",
       "</style>  \n",
       "<table id=\"T_c2ada39e_4e9c_11e9_b18c_2816a86d7ac4\" > \n",
       "<thead>    <tr> \n",
       "        <th class=\"blank level0\" ></th> \n",
       "        <th class=\"col_heading level0 col0\" >Number of Unique Items</th> \n",
       "        <th class=\"col_heading level0 col1\" >Average Purchase Price</th> \n",
       "        <th class=\"col_heading level0 col2\" >Number of Purchases</th> \n",
       "        <th class=\"col_heading level0 col3\" >Total Revenue</th> \n",
       "    </tr></thead> \n",
       "<tbody>    <tr> \n",
       "        <th id=\"T_c2ada39e_4e9c_11e9_b18c_2816a86d7ac4level0_row0\" class=\"row_heading level0 row0\" >0</th> \n",
       "        <td id=\"T_c2ada39e_4e9c_11e9_b18c_2816a86d7ac4row0_col0\" class=\"data row0 col0\" >183</td> \n",
       "        <td id=\"T_c2ada39e_4e9c_11e9_b18c_2816a86d7ac4row0_col1\" class=\"data row0 col1\" >$3.05</td> \n",
       "        <td id=\"T_c2ada39e_4e9c_11e9_b18c_2816a86d7ac4row0_col2\" class=\"data row0 col2\" >780</td> \n",
       "        <td id=\"T_c2ada39e_4e9c_11e9_b18c_2816a86d7ac4row0_col3\" class=\"data row0 col3\" >$2379.77</td> \n",
       "    </tr></tbody> \n",
       "</table> "
      ],
      "text/plain": [
       "<pandas.io.formats.style.Styler at 0x1c9168afc88>"
      ]
     },
     "execution_count": 34,
     "metadata": {},
     "output_type": "execute_result"
    }
   ],
   "source": [
    "#find number of unique items sold, purchase price, number of purchases, and total revenue for full dataframe\n",
    "uniqueitems = df['Item ID'].nunique()\n",
    "avgprice = (df['Price'].sum()/df['Price'].count()).round(2)\n",
    "totalpurchases = df['Price'].count()\n",
    "totalrevenue = df[\"Price\"].sum()\n",
    "\n",
    "total_analysis_df = pd.DataFrame({\"Number of Unique Items\": [uniqueitems], \"Average Purchase Price\": [avgprice], \"Number of Purchases\": [totalpurchases], \"Total Revenue\": [totalrevenue]}, columns= [\"Number of Unique Items\", \"Average Purchase Price\", \"Number of Purchases\", \"Total Revenue\"])\n",
    "\n",
    "total_analysis_df.style.format({\"Average Purchase Price\": \"${:.2f}\", \"Total Revenue\": \"${:.2f}\"})\n"
   ]
  },
  {
   "cell_type": "markdown",
   "metadata": {},
   "source": [
    "# Gender Demographics"
   ]
  },
  {
   "cell_type": "code",
   "execution_count": 35,
   "metadata": {},
   "outputs": [
    {
     "data": {
      "text/html": [
       "<style  type=\"text/css\" >\n",
       "</style>  \n",
       "<table id=\"T_c5d285d4_4e9c_11e9_97d8_2816a86d7ac4\" > \n",
       "<thead>    <tr> \n",
       "        <th class=\"blank level0\" ></th> \n",
       "        <th class=\"col_heading level0 col0\" >Percentage of Players</th> \n",
       "        <th class=\"col_heading level0 col1\" >Total Count</th> \n",
       "    </tr>    <tr> \n",
       "        <th class=\"index_name level0\" >Gender</th> \n",
       "        <th class=\"blank\" ></th> \n",
       "        <th class=\"blank\" ></th> \n",
       "    </tr></thead> \n",
       "<tbody>    <tr> \n",
       "        <th id=\"T_c5d285d4_4e9c_11e9_97d8_2816a86d7ac4level0_row0\" class=\"row_heading level0 row0\" >Male</th> \n",
       "        <td id=\"T_c5d285d4_4e9c_11e9_97d8_2816a86d7ac4row0_col0\" class=\"data row0 col0\" >84.03%</td> \n",
       "        <td id=\"T_c5d285d4_4e9c_11e9_97d8_2816a86d7ac4row0_col1\" class=\"data row0 col1\" >484</td> \n",
       "    </tr>    <tr> \n",
       "        <th id=\"T_c5d285d4_4e9c_11e9_97d8_2816a86d7ac4level0_row1\" class=\"row_heading level0 row1\" >Female</th> \n",
       "        <td id=\"T_c5d285d4_4e9c_11e9_97d8_2816a86d7ac4row1_col0\" class=\"data row1 col0\" >14.06%</td> \n",
       "        <td id=\"T_c5d285d4_4e9c_11e9_97d8_2816a86d7ac4row1_col1\" class=\"data row1 col1\" >81</td> \n",
       "    </tr>    <tr> \n",
       "        <th id=\"T_c5d285d4_4e9c_11e9_97d8_2816a86d7ac4level0_row2\" class=\"row_heading level0 row2\" >Other / Non-Disclosed</th> \n",
       "        <td id=\"T_c5d285d4_4e9c_11e9_97d8_2816a86d7ac4row2_col0\" class=\"data row2 col0\" >1.91%</td> \n",
       "        <td id=\"T_c5d285d4_4e9c_11e9_97d8_2816a86d7ac4row2_col1\" class=\"data row2 col1\" >11</td> \n",
       "    </tr></tbody> \n",
       "</table> "
      ],
      "text/plain": [
       "<pandas.io.formats.style.Styler at 0x1c9160f6860>"
      ]
     },
     "execution_count": 35,
     "metadata": {},
     "output_type": "execute_result"
    }
   ],
   "source": [
    "fullcount = df[\"SN\"].nunique()\n",
    "malecount = df[df[\"Gender\"] == \"Male\"][\"SN\"].nunique()\n",
    "femalecount = df[df[\"Gender\"] == \"Female\"][\"SN\"].nunique()\n",
    "othercount = fullcount - malecount - femalecount\n",
    "maleperc = ((malecount/fullcount)*100)\n",
    "femaleperc = ((femalecount/fullcount)*100)\n",
    "otherperc = ((othercount/fullcount)*100)\n",
    "\n",
    "gender_demo_df = pd.DataFrame({\"Gender\": [\"Male\", \"Female\", \"Other / Non-Disclosed\"], \"Percentage of Players\": [maleperc, femaleperc, otherperc],\n",
    "                                        \"Total Count\": [malecount, femalecount, othercount]}, columns = \n",
    "                                        [\"Gender\", \"Percentage of Players\", \"Total Count\"])\n",
    "                                        \n",
    "gender_demo_final = gender_demo_df.set_index(\"Gender\")\n",
    "gender_demo_final.style.format({\"Percentage of Players\": \"{:.2f}%\"})"
   ]
  },
  {
   "cell_type": "markdown",
   "metadata": {},
   "source": [
    "# Purchasing Analysis (Gender)"
   ]
  },
  {
   "cell_type": "code",
   "execution_count": 36,
   "metadata": {
    "scrolled": true
   },
   "outputs": [
    {
     "data": {
      "text/html": [
       "<style  type=\"text/css\" >\n",
       "</style>  \n",
       "<table id=\"T_cb002b2e_4e9c_11e9_93d5_2816a86d7ac4\" > \n",
       "<thead>    <tr> \n",
       "        <th class=\"blank level0\" ></th> \n",
       "        <th class=\"col_heading level0 col0\" >Purchase Count</th> \n",
       "        <th class=\"col_heading level0 col1\" >Average Purchase Price</th> \n",
       "        <th class=\"col_heading level0 col2\" >Total Purchase Value</th> \n",
       "        <th class=\"col_heading level0 col3\" >Normalized Totals</th> \n",
       "    </tr>    <tr> \n",
       "        <th class=\"index_name level0\" >Gender</th> \n",
       "        <th class=\"blank\" ></th> \n",
       "        <th class=\"blank\" ></th> \n",
       "        <th class=\"blank\" ></th> \n",
       "        <th class=\"blank\" ></th> \n",
       "    </tr></thead> \n",
       "<tbody>    <tr> \n",
       "        <th id=\"T_cb002b2e_4e9c_11e9_93d5_2816a86d7ac4level0_row0\" class=\"row_heading level0 row0\" >Male</th> \n",
       "        <td id=\"T_cb002b2e_4e9c_11e9_93d5_2816a86d7ac4row0_col0\" class=\"data row0 col0\" >652</td> \n",
       "        <td id=\"T_cb002b2e_4e9c_11e9_93d5_2816a86d7ac4row0_col1\" class=\"data row0 col1\" >$3.02</td> \n",
       "        <td id=\"T_cb002b2e_4e9c_11e9_93d5_2816a86d7ac4row0_col2\" class=\"data row0 col2\" >$1967.64</td> \n",
       "        <td id=\"T_cb002b2e_4e9c_11e9_93d5_2816a86d7ac4row0_col3\" class=\"data row0 col3\" >$4.07</td> \n",
       "    </tr>    <tr> \n",
       "        <th id=\"T_cb002b2e_4e9c_11e9_93d5_2816a86d7ac4level0_row1\" class=\"row_heading level0 row1\" >Female</th> \n",
       "        <td id=\"T_cb002b2e_4e9c_11e9_93d5_2816a86d7ac4row1_col0\" class=\"data row1 col0\" >113</td> \n",
       "        <td id=\"T_cb002b2e_4e9c_11e9_93d5_2816a86d7ac4row1_col1\" class=\"data row1 col1\" >$3.20</td> \n",
       "        <td id=\"T_cb002b2e_4e9c_11e9_93d5_2816a86d7ac4row1_col2\" class=\"data row1 col2\" >$361.94</td> \n",
       "        <td id=\"T_cb002b2e_4e9c_11e9_93d5_2816a86d7ac4row1_col3\" class=\"data row1 col3\" >$4.47</td> \n",
       "    </tr>    <tr> \n",
       "        <th id=\"T_cb002b2e_4e9c_11e9_93d5_2816a86d7ac4level0_row2\" class=\"row_heading level0 row2\" >Other / Non-Disclosed</th> \n",
       "        <td id=\"T_cb002b2e_4e9c_11e9_93d5_2816a86d7ac4row2_col0\" class=\"data row2 col0\" >15</td> \n",
       "        <td id=\"T_cb002b2e_4e9c_11e9_93d5_2816a86d7ac4row2_col1\" class=\"data row2 col1\" >$3.35</td> \n",
       "        <td id=\"T_cb002b2e_4e9c_11e9_93d5_2816a86d7ac4row2_col2\" class=\"data row2 col2\" >$50.19</td> \n",
       "        <td id=\"T_cb002b2e_4e9c_11e9_93d5_2816a86d7ac4row2_col3\" class=\"data row2 col3\" >$4.56</td> \n",
       "    </tr></tbody> \n",
       "</table> "
      ],
      "text/plain": [
       "<pandas.io.formats.style.Styler at 0x1c91682f1d0>"
      ]
     },
     "execution_count": 36,
     "metadata": {},
     "output_type": "execute_result"
    }
   ],
   "source": [
    "malepurch = df[df[\"Gender\"] == \"Male\"][\"Price\"].count()\n",
    "femalepurch = df[df[\"Gender\"] == \"Female\"][\"Price\"].count()\n",
    "otherpurch = totalpurchases - malepurch - femalepurch\n",
    "mpriceavg = df[df[\"Gender\"] == \"Male\"]['Price'].mean()\n",
    "fpriceavg = df[df[\"Gender\"] == \"Female\"]['Price'].mean()\n",
    "opriceavg = df[df[\"Gender\"] == \"Other / Non-Disclosed\"]['Price'].mean()\n",
    "mpricetot = df[df[\"Gender\"] == \"Male\"]['Price'].sum()\n",
    "fpricetot = df[df[\"Gender\"] == \"Female\"]['Price'].sum()\n",
    "opricetot = df[df[\"Gender\"] == \"Other / Non-Disclosed\"]['Price'].sum()\n",
    "mnorm = mpricetot/malecount\n",
    "fnorm = fpricetot/femalecount\n",
    "onorm = opricetot/othercount\n",
    "\n",
    "gender_purchase_df = pd.DataFrame({\"Gender\": [\"Male\", \"Female\", \"Other / Non-Disclosed\"], \"Purchase Count\": [malepurch, femalepurch, otherpurch],\n",
    "                                        \"Average Purchase Price\": [mpriceavg, fpriceavg, opriceavg], \"Total Purchase Value\": [mpricetot, fpricetot, opricetot],\n",
    "                                \"Normalized Totals\": [mnorm, fnorm, onorm]}, columns = \n",
    "                                        [\"Gender\", \"Purchase Count\", \"Average Purchase Price\", \"Total Purchase Value\", \"Normalized Totals\"])\n",
    "                                        \n",
    "gender_purchase_final = gender_purchase_df.set_index(\"Gender\")\n",
    "gender_purchase_final.style.format({\"Average Purchase Price\": \"${:.2f}\", \"Total Purchase Value\": \"${:.2f}\", \"Normalized Totals\": \"${:.2f}\"})"
   ]
  },
  {
   "cell_type": "markdown",
   "metadata": {},
   "source": [
    "# Age Demographics"
   ]
  },
  {
   "cell_type": "code",
   "execution_count": 37,
   "metadata": {},
   "outputs": [
    {
     "data": {
      "text/html": [
       "<style  type=\"text/css\" >\n",
       "</style>  \n",
       "<table id=\"T_c73dc67a_4e9d_11e9_8fe7_2816a86d7ac4\" > \n",
       "<thead>    <tr> \n",
       "        <th class=\"blank level0\" ></th> \n",
       "        <th class=\"col_heading level0 col0\" >Percentage of Players</th> \n",
       "        <th class=\"col_heading level0 col1\" >Total Count</th> \n",
       "    </tr>    <tr> \n",
       "        <th class=\"index_name level0\" >Age</th> \n",
       "        <th class=\"blank\" ></th> \n",
       "        <th class=\"blank\" ></th> \n",
       "    </tr></thead> \n",
       "<tbody>    <tr> \n",
       "        <th id=\"T_c73dc67a_4e9d_11e9_8fe7_2816a86d7ac4level0_row0\" class=\"row_heading level0 row0\" ><10</th> \n",
       "        <td id=\"T_c73dc67a_4e9d_11e9_8fe7_2816a86d7ac4row0_col0\" class=\"data row0 col0\" >2.95%</td> \n",
       "        <td id=\"T_c73dc67a_4e9d_11e9_8fe7_2816a86d7ac4row0_col1\" class=\"data row0 col1\" >17</td> \n",
       "    </tr>    <tr> \n",
       "        <th id=\"T_c73dc67a_4e9d_11e9_8fe7_2816a86d7ac4level0_row1\" class=\"row_heading level0 row1\" >10-14</th> \n",
       "        <td id=\"T_c73dc67a_4e9d_11e9_8fe7_2816a86d7ac4row1_col0\" class=\"data row1 col0\" >3.82%</td> \n",
       "        <td id=\"T_c73dc67a_4e9d_11e9_8fe7_2816a86d7ac4row1_col1\" class=\"data row1 col1\" >22</td> \n",
       "    </tr>    <tr> \n",
       "        <th id=\"T_c73dc67a_4e9d_11e9_8fe7_2816a86d7ac4level0_row2\" class=\"row_heading level0 row2\" >15-19</th> \n",
       "        <td id=\"T_c73dc67a_4e9d_11e9_8fe7_2816a86d7ac4row2_col0\" class=\"data row2 col0\" >18.58%</td> \n",
       "        <td id=\"T_c73dc67a_4e9d_11e9_8fe7_2816a86d7ac4row2_col1\" class=\"data row2 col1\" >107</td> \n",
       "    </tr>    <tr> \n",
       "        <th id=\"T_c73dc67a_4e9d_11e9_8fe7_2816a86d7ac4level0_row3\" class=\"row_heading level0 row3\" >20-24</th> \n",
       "        <td id=\"T_c73dc67a_4e9d_11e9_8fe7_2816a86d7ac4row3_col0\" class=\"data row3 col0\" >44.79%</td> \n",
       "        <td id=\"T_c73dc67a_4e9d_11e9_8fe7_2816a86d7ac4row3_col1\" class=\"data row3 col1\" >258</td> \n",
       "    </tr>    <tr> \n",
       "        <th id=\"T_c73dc67a_4e9d_11e9_8fe7_2816a86d7ac4level0_row4\" class=\"row_heading level0 row4\" >25-29</th> \n",
       "        <td id=\"T_c73dc67a_4e9d_11e9_8fe7_2816a86d7ac4row4_col0\" class=\"data row4 col0\" >13.37%</td> \n",
       "        <td id=\"T_c73dc67a_4e9d_11e9_8fe7_2816a86d7ac4row4_col1\" class=\"data row4 col1\" >77</td> \n",
       "    </tr>    <tr> \n",
       "        <th id=\"T_c73dc67a_4e9d_11e9_8fe7_2816a86d7ac4level0_row5\" class=\"row_heading level0 row5\" >30-34</th> \n",
       "        <td id=\"T_c73dc67a_4e9d_11e9_8fe7_2816a86d7ac4row5_col0\" class=\"data row5 col0\" >9.03%</td> \n",
       "        <td id=\"T_c73dc67a_4e9d_11e9_8fe7_2816a86d7ac4row5_col1\" class=\"data row5 col1\" >52</td> \n",
       "    </tr>    <tr> \n",
       "        <th id=\"T_c73dc67a_4e9d_11e9_8fe7_2816a86d7ac4level0_row6\" class=\"row_heading level0 row6\" >35-39</th> \n",
       "        <td id=\"T_c73dc67a_4e9d_11e9_8fe7_2816a86d7ac4row6_col0\" class=\"data row6 col0\" >5.38%</td> \n",
       "        <td id=\"T_c73dc67a_4e9d_11e9_8fe7_2816a86d7ac4row6_col1\" class=\"data row6 col1\" >31</td> \n",
       "    </tr>    <tr> \n",
       "        <th id=\"T_c73dc67a_4e9d_11e9_8fe7_2816a86d7ac4level0_row7\" class=\"row_heading level0 row7\" >40-44</th> \n",
       "        <td id=\"T_c73dc67a_4e9d_11e9_8fe7_2816a86d7ac4row7_col0\" class=\"data row7 col0\" >1.91%</td> \n",
       "        <td id=\"T_c73dc67a_4e9d_11e9_8fe7_2816a86d7ac4row7_col1\" class=\"data row7 col1\" >11</td> \n",
       "    </tr>    <tr> \n",
       "        <th id=\"T_c73dc67a_4e9d_11e9_8fe7_2816a86d7ac4level0_row8\" class=\"row_heading level0 row8\" >45-49</th> \n",
       "        <td id=\"T_c73dc67a_4e9d_11e9_8fe7_2816a86d7ac4row8_col0\" class=\"data row8 col0\" >0.17%</td> \n",
       "        <td id=\"T_c73dc67a_4e9d_11e9_8fe7_2816a86d7ac4row8_col1\" class=\"data row8 col1\" >1</td> \n",
       "    </tr></tbody> \n",
       "</table> "
      ],
      "text/plain": [
       "<pandas.io.formats.style.Styler at 0x1c9168e6dd8>"
      ]
     },
     "execution_count": 37,
     "metadata": {},
     "output_type": "execute_result"
    }
   ],
   "source": [
    "#create age parameters - 4 year length\n",
    "#create dataframe of unique players in each age group, find percentage against full count of players\n",
    "\n",
    "tenyears = df[df[\"Age\"] <10]\n",
    "loteens = df[(df[\"Age\"] >=10) & (df[\"Age\"] <=14)]\n",
    "hiteens = df[(df[\"Age\"] >=15) & (df[\"Age\"] <=19)]\n",
    "lotwent = df[(df[\"Age\"] >=20) & (df[\"Age\"] <=24)]\n",
    "hitwent = df[(df[\"Age\"] >=25) & (df[\"Age\"] <=29)]\n",
    "lothirt = df[(df[\"Age\"] >=30) & (df[\"Age\"] <=34)]\n",
    "hithirt = df[(df[\"Age\"] >=35) & (df[\"Age\"] <=39)]\n",
    "loforty = df[(df[\"Age\"] >=40) & (df[\"Age\"] <=44)]\n",
    "hiforty = df[(df[\"Age\"] >=45) & (df[\"Age\"] <=49)]\n",
    "\n",
    "age_demo_df = pd.DataFrame({\"Age\": [\"<10\", \"10-14\", \"15-19\", \"20-24\", \"25-29\", \"30-34\", \"35-39\", \"40-44\", \"45-49\"],\n",
    "                        \"Percentage of Players\": [(tenyears[\"SN\"].nunique()/fullcount)*100, (loteens[\"SN\"].nunique()/fullcount)*100, (hiteens[\"SN\"].nunique()/fullcount)*100, (lotwent[\"SN\"].nunique()/fullcount)*100, (hitwent[\"SN\"].nunique()/fullcount)*100, (lothirt[\"SN\"].nunique()/fullcount)*100, (hithirt[\"SN\"].nunique()/fullcount)*100, (loforty[\"SN\"].nunique()/fullcount)*100, (hiforty[\"SN\"].nunique()/fullcount)*100],\n",
    "                        \"Total Count\": [tenyears[\"SN\"].nunique(), loteens[\"SN\"].nunique(), hiteens[\"SN\"].nunique(), lotwent[\"SN\"].nunique(), hitwent[\"SN\"].nunique(), lothirt[\"SN\"].nunique(), hithirt[\"SN\"].nunique(), loforty[\"SN\"].nunique(), hiforty[\"SN\"].nunique()]\n",
    "                       })\n",
    "\n",
    "age_demo_final = age_demo_df.set_index(\"Age\")\n",
    "age_demo_final.style.format({\"Percentage of Players\": \"{:.2f}%\"})"
   ]
  },
  {
   "cell_type": "markdown",
   "metadata": {},
   "source": [
    "# Purchasing Analysis (Age)"
   ]
  },
  {
   "cell_type": "code",
   "execution_count": 41,
   "metadata": {
    "scrolled": true
   },
   "outputs": [
    {
     "data": {
      "text/html": [
       "<style  type=\"text/css\" >\n",
       "</style>  \n",
       "<table id=\"T_c992997a_4ea0_11e9_897a_2816a86d7ac4\" > \n",
       "<thead>    <tr> \n",
       "        <th class=\"blank level0\" ></th> \n",
       "        <th class=\"col_heading level0 col0\" >Purchase Count</th> \n",
       "        <th class=\"col_heading level0 col1\" >Average Purchase Price</th> \n",
       "        <th class=\"col_heading level0 col2\" >Total Purchase Value</th> \n",
       "        <th class=\"col_heading level0 col3\" >Normalized Totals</th> \n",
       "    </tr>    <tr> \n",
       "        <th class=\"index_name level0\" >Age</th> \n",
       "        <th class=\"blank\" ></th> \n",
       "        <th class=\"blank\" ></th> \n",
       "        <th class=\"blank\" ></th> \n",
       "        <th class=\"blank\" ></th> \n",
       "    </tr></thead> \n",
       "<tbody>    <tr> \n",
       "        <th id=\"T_c992997a_4ea0_11e9_897a_2816a86d7ac4level0_row0\" class=\"row_heading level0 row0\" ><10</th> \n",
       "        <td id=\"T_c992997a_4ea0_11e9_897a_2816a86d7ac4row0_col0\" class=\"data row0 col0\" >23</td> \n",
       "        <td id=\"T_c992997a_4ea0_11e9_897a_2816a86d7ac4row0_col1\" class=\"data row0 col1\" >$3.35</td> \n",
       "        <td id=\"T_c992997a_4ea0_11e9_897a_2816a86d7ac4row0_col2\" class=\"data row0 col2\" >$77.13</td> \n",
       "        <td id=\"T_c992997a_4ea0_11e9_897a_2816a86d7ac4row0_col3\" class=\"data row0 col3\" >$4.54</td> \n",
       "    </tr>    <tr> \n",
       "        <th id=\"T_c992997a_4ea0_11e9_897a_2816a86d7ac4level0_row1\" class=\"row_heading level0 row1\" >10-14</th> \n",
       "        <td id=\"T_c992997a_4ea0_11e9_897a_2816a86d7ac4row1_col0\" class=\"data row1 col0\" >28</td> \n",
       "        <td id=\"T_c992997a_4ea0_11e9_897a_2816a86d7ac4row1_col1\" class=\"data row1 col1\" >$2.96</td> \n",
       "        <td id=\"T_c992997a_4ea0_11e9_897a_2816a86d7ac4row1_col2\" class=\"data row1 col2\" >$82.78</td> \n",
       "        <td id=\"T_c992997a_4ea0_11e9_897a_2816a86d7ac4row1_col3\" class=\"data row1 col3\" >$3.76</td> \n",
       "    </tr>    <tr> \n",
       "        <th id=\"T_c992997a_4ea0_11e9_897a_2816a86d7ac4level0_row2\" class=\"row_heading level0 row2\" >15-19</th> \n",
       "        <td id=\"T_c992997a_4ea0_11e9_897a_2816a86d7ac4row2_col0\" class=\"data row2 col0\" >136</td> \n",
       "        <td id=\"T_c992997a_4ea0_11e9_897a_2816a86d7ac4row2_col1\" class=\"data row2 col1\" >$3.04</td> \n",
       "        <td id=\"T_c992997a_4ea0_11e9_897a_2816a86d7ac4row2_col2\" class=\"data row2 col2\" >$412.89</td> \n",
       "        <td id=\"T_c992997a_4ea0_11e9_897a_2816a86d7ac4row2_col3\" class=\"data row2 col3\" >$3.86</td> \n",
       "    </tr>    <tr> \n",
       "        <th id=\"T_c992997a_4ea0_11e9_897a_2816a86d7ac4level0_row3\" class=\"row_heading level0 row3\" >20-24</th> \n",
       "        <td id=\"T_c992997a_4ea0_11e9_897a_2816a86d7ac4row3_col0\" class=\"data row3 col0\" >365</td> \n",
       "        <td id=\"T_c992997a_4ea0_11e9_897a_2816a86d7ac4row3_col1\" class=\"data row3 col1\" >$3.05</td> \n",
       "        <td id=\"T_c992997a_4ea0_11e9_897a_2816a86d7ac4row3_col2\" class=\"data row3 col2\" >$1114.06</td> \n",
       "        <td id=\"T_c992997a_4ea0_11e9_897a_2816a86d7ac4row3_col3\" class=\"data row3 col3\" >$4.32</td> \n",
       "    </tr>    <tr> \n",
       "        <th id=\"T_c992997a_4ea0_11e9_897a_2816a86d7ac4level0_row4\" class=\"row_heading level0 row4\" >25-29</th> \n",
       "        <td id=\"T_c992997a_4ea0_11e9_897a_2816a86d7ac4row4_col0\" class=\"data row4 col0\" >101</td> \n",
       "        <td id=\"T_c992997a_4ea0_11e9_897a_2816a86d7ac4row4_col1\" class=\"data row4 col1\" >$2.90</td> \n",
       "        <td id=\"T_c992997a_4ea0_11e9_897a_2816a86d7ac4row4_col2\" class=\"data row4 col2\" >$293.00</td> \n",
       "        <td id=\"T_c992997a_4ea0_11e9_897a_2816a86d7ac4row4_col3\" class=\"data row4 col3\" >$3.81</td> \n",
       "    </tr>    <tr> \n",
       "        <th id=\"T_c992997a_4ea0_11e9_897a_2816a86d7ac4level0_row5\" class=\"row_heading level0 row5\" >30-34</th> \n",
       "        <td id=\"T_c992997a_4ea0_11e9_897a_2816a86d7ac4row5_col0\" class=\"data row5 col0\" >73</td> \n",
       "        <td id=\"T_c992997a_4ea0_11e9_897a_2816a86d7ac4row5_col1\" class=\"data row5 col1\" >$2.93</td> \n",
       "        <td id=\"T_c992997a_4ea0_11e9_897a_2816a86d7ac4row5_col2\" class=\"data row5 col2\" >$214.00</td> \n",
       "        <td id=\"T_c992997a_4ea0_11e9_897a_2816a86d7ac4row5_col3\" class=\"data row5 col3\" >$4.12</td> \n",
       "    </tr>    <tr> \n",
       "        <th id=\"T_c992997a_4ea0_11e9_897a_2816a86d7ac4level0_row6\" class=\"row_heading level0 row6\" >35-39</th> \n",
       "        <td id=\"T_c992997a_4ea0_11e9_897a_2816a86d7ac4row6_col0\" class=\"data row6 col0\" >41</td> \n",
       "        <td id=\"T_c992997a_4ea0_11e9_897a_2816a86d7ac4row6_col1\" class=\"data row6 col1\" >$3.60</td> \n",
       "        <td id=\"T_c992997a_4ea0_11e9_897a_2816a86d7ac4row6_col2\" class=\"data row6 col2\" >$147.67</td> \n",
       "        <td id=\"T_c992997a_4ea0_11e9_897a_2816a86d7ac4row6_col3\" class=\"data row6 col3\" >$4.76</td> \n",
       "    </tr>    <tr> \n",
       "        <th id=\"T_c992997a_4ea0_11e9_897a_2816a86d7ac4level0_row7\" class=\"row_heading level0 row7\" >40-44</th> \n",
       "        <td id=\"T_c992997a_4ea0_11e9_897a_2816a86d7ac4row7_col0\" class=\"data row7 col0\" >12</td> \n",
       "        <td id=\"T_c992997a_4ea0_11e9_897a_2816a86d7ac4row7_col1\" class=\"data row7 col1\" >$3.04</td> \n",
       "        <td id=\"T_c992997a_4ea0_11e9_897a_2816a86d7ac4row7_col2\" class=\"data row7 col2\" >$36.54</td> \n",
       "        <td id=\"T_c992997a_4ea0_11e9_897a_2816a86d7ac4row7_col3\" class=\"data row7 col3\" >$3.32</td> \n",
       "    </tr>    <tr> \n",
       "        <th id=\"T_c992997a_4ea0_11e9_897a_2816a86d7ac4level0_row8\" class=\"row_heading level0 row8\" >45-49</th> \n",
       "        <td id=\"T_c992997a_4ea0_11e9_897a_2816a86d7ac4row8_col0\" class=\"data row8 col0\" >1</td> \n",
       "        <td id=\"T_c992997a_4ea0_11e9_897a_2816a86d7ac4row8_col1\" class=\"data row8 col1\" >$1.70</td> \n",
       "        <td id=\"T_c992997a_4ea0_11e9_897a_2816a86d7ac4row8_col2\" class=\"data row8 col2\" >$1.70</td> \n",
       "        <td id=\"T_c992997a_4ea0_11e9_897a_2816a86d7ac4row8_col3\" class=\"data row8 col3\" >$1.70</td> \n",
       "    </tr></tbody> \n",
       "</table> "
      ],
      "text/plain": [
       "<pandas.io.formats.style.Styler at 0x1c915b7a668>"
      ]
     },
     "execution_count": 41,
     "metadata": {},
     "output_type": "execute_result"
    }
   ],
   "source": [
    "#Purchase Count, Average Purchase Price, Total Purchase Price and Average total broken into bins of 4 years.\n",
    "\n",
    "age_purchasing_df = pd.DataFrame({\"Age\": [\"<10\", \"10-14\", \"15-19\", \"20-24\", \"25-29\", \"30-34\", \"35-39\", \"40-44\", \"45-49\"],\n",
    "                              \"Purchase Count\": [tenyears[\"Price\"].count(), loteens[\"Price\"].count(), hiteens[\"Price\"].count(), lotwent[\"Price\"].count(), hitwent[\"Price\"].count(), lothirt[\"Price\"].count(), hithirt[\"Price\"].count(), loforty[\"Price\"].count(), hiforty[\"Price\"].count()],\n",
    "                              \"Average Purchase Price\": [tenyears[\"Price\"].mean(), loteens[\"Price\"].mean(), hiteens[\"Price\"].mean(), lotwent[\"Price\"].mean(), hitwent[\"Price\"].mean(), lothirt[\"Price\"].mean(), hithirt[\"Price\"].mean(), loforty[\"Price\"].mean(), hiforty[\"Price\"].mean()], \n",
    "                              \"Total Purchase Value\": [tenyears[\"Price\"].sum(), loteens[\"Price\"].sum(), hiteens[\"Price\"].sum(), lotwent[\"Price\"].sum(), hitwent[\"Price\"].sum(), lothirt[\"Price\"].sum(), hithirt[\"Price\"].sum(), loforty[\"Price\"].sum(), hiforty[\"Price\"].sum()],\n",
    "                              \"Normalized Totals\": [tenyears[\"Price\"].sum()/tenyears['SN'].nunique(), loteens[\"Price\"].sum()/loteens['SN'].nunique(), hiteens[\"Price\"].sum()/hiteens['SN'].nunique(), \n",
    "                                                    lotwent[\"Price\"].sum()/lotwent['SN'].nunique(), hitwent[\"Price\"].sum()/hitwent['SN'].nunique(), \n",
    "                                                    lothirt[\"Price\"].sum()/lothirt['SN'].nunique(), hithirt[\"Price\"].sum()/hithirt['SN'].nunique(), \n",
    "                                                    loforty[\"Price\"].sum()/loforty['SN'].nunique(), hiforty[\"Price\"].sum()/hiforty['SN'].nunique()]}, \n",
    "                             columns = \n",
    "                            [\"Age\", \"Purchase Count\", \"Average Purchase Price\", \"Total Purchase Value\", \"Normalized Totals\"])\n",
    "\n",
    "age_purchasing_final = age_purchasing_df.set_index(\"Age\")\n",
    "\n",
    "age_purchasing_final.style.format({\"Average Purchase Price\": \"${:.2f}\", \"Total Purchase Value\": \"${:.2f}\", \"Normalized Totals\": \"${:.2f}\"})"
   ]
  },
  {
   "cell_type": "markdown",
   "metadata": {},
   "source": [
    "# Top Spenders"
   ]
  },
  {
   "cell_type": "code",
   "execution_count": 42,
   "metadata": {},
   "outputs": [
    {
     "data": {
      "text/html": [
       "<style  type=\"text/css\" >\n",
       "</style>  \n",
       "<table id=\"T_eeaa5fd2_4ea0_11e9_bd1d_2816a86d7ac4\" > \n",
       "<thead>    <tr> \n",
       "        <th class=\"blank level0\" ></th> \n",
       "        <th class=\"col_heading level0 col0\" >Purchase Count</th> \n",
       "        <th class=\"col_heading level0 col1\" >Average Purchase Price</th> \n",
       "        <th class=\"col_heading level0 col2\" >Total Purchase Value</th> \n",
       "    </tr>    <tr> \n",
       "        <th class=\"index_name level0\" >SN</th> \n",
       "        <th class=\"blank\" ></th> \n",
       "        <th class=\"blank\" ></th> \n",
       "        <th class=\"blank\" ></th> \n",
       "    </tr></thead> \n",
       "<tbody>    <tr> \n",
       "        <th id=\"T_eeaa5fd2_4ea0_11e9_bd1d_2816a86d7ac4level0_row0\" class=\"row_heading level0 row0\" >Lisosia93</th> \n",
       "        <td id=\"T_eeaa5fd2_4ea0_11e9_bd1d_2816a86d7ac4row0_col0\" class=\"data row0 col0\" >5</td> \n",
       "        <td id=\"T_eeaa5fd2_4ea0_11e9_bd1d_2816a86d7ac4row0_col1\" class=\"data row0 col1\" >$3.79</td> \n",
       "        <td id=\"T_eeaa5fd2_4ea0_11e9_bd1d_2816a86d7ac4row0_col2\" class=\"data row0 col2\" >$18.96</td> \n",
       "    </tr>    <tr> \n",
       "        <th id=\"T_eeaa5fd2_4ea0_11e9_bd1d_2816a86d7ac4level0_row1\" class=\"row_heading level0 row1\" >Idastidru52</th> \n",
       "        <td id=\"T_eeaa5fd2_4ea0_11e9_bd1d_2816a86d7ac4row1_col0\" class=\"data row1 col0\" >4</td> \n",
       "        <td id=\"T_eeaa5fd2_4ea0_11e9_bd1d_2816a86d7ac4row1_col1\" class=\"data row1 col1\" >$3.86</td> \n",
       "        <td id=\"T_eeaa5fd2_4ea0_11e9_bd1d_2816a86d7ac4row1_col2\" class=\"data row1 col2\" >$15.45</td> \n",
       "    </tr>    <tr> \n",
       "        <th id=\"T_eeaa5fd2_4ea0_11e9_bd1d_2816a86d7ac4level0_row2\" class=\"row_heading level0 row2\" >Chamjask73</th> \n",
       "        <td id=\"T_eeaa5fd2_4ea0_11e9_bd1d_2816a86d7ac4row2_col0\" class=\"data row2 col0\" >3</td> \n",
       "        <td id=\"T_eeaa5fd2_4ea0_11e9_bd1d_2816a86d7ac4row2_col1\" class=\"data row2 col1\" >$4.61</td> \n",
       "        <td id=\"T_eeaa5fd2_4ea0_11e9_bd1d_2816a86d7ac4row2_col2\" class=\"data row2 col2\" >$13.83</td> \n",
       "    </tr>    <tr> \n",
       "        <th id=\"T_eeaa5fd2_4ea0_11e9_bd1d_2816a86d7ac4level0_row3\" class=\"row_heading level0 row3\" >Iral74</th> \n",
       "        <td id=\"T_eeaa5fd2_4ea0_11e9_bd1d_2816a86d7ac4row3_col0\" class=\"data row3 col0\" >4</td> \n",
       "        <td id=\"T_eeaa5fd2_4ea0_11e9_bd1d_2816a86d7ac4row3_col1\" class=\"data row3 col1\" >$3.40</td> \n",
       "        <td id=\"T_eeaa5fd2_4ea0_11e9_bd1d_2816a86d7ac4row3_col2\" class=\"data row3 col2\" >$13.62</td> \n",
       "    </tr>    <tr> \n",
       "        <th id=\"T_eeaa5fd2_4ea0_11e9_bd1d_2816a86d7ac4level0_row4\" class=\"row_heading level0 row4\" >Iskadarya95</th> \n",
       "        <td id=\"T_eeaa5fd2_4ea0_11e9_bd1d_2816a86d7ac4row4_col0\" class=\"data row4 col0\" >3</td> \n",
       "        <td id=\"T_eeaa5fd2_4ea0_11e9_bd1d_2816a86d7ac4row4_col1\" class=\"data row4 col1\" >$4.37</td> \n",
       "        <td id=\"T_eeaa5fd2_4ea0_11e9_bd1d_2816a86d7ac4row4_col2\" class=\"data row4 col2\" >$13.10</td> \n",
       "    </tr></tbody> \n",
       "</table> "
      ],
      "text/plain": [
       "<pandas.io.formats.style.Styler at 0x1c9168afe10>"
      ]
     },
     "execution_count": 42,
     "metadata": {},
     "output_type": "execute_result"
    }
   ],
   "source": [
    "#Identify top 5 spenders in game\n",
    "\n",
    "sn_total_purchase = df.groupby('SN')['Price'].sum().to_frame()\n",
    "sn_purchase_count = df.groupby('SN')['Price'].count().to_frame()\n",
    "sn_purchase_avg = df.groupby('SN')['Price'].mean().to_frame()\n",
    "\n",
    "sn_total_purchase.columns=[\"Total Purchase Value\"]\n",
    "join_one = sn_total_purchase.join(sn_purchase_count, how=\"left\")\n",
    "join_one.columns=[\"Total Purchase Value\", \"Purchase Count\"]\n",
    "\n",
    "join_two = join_one.join(sn_purchase_avg, how=\"inner\")\n",
    "join_two.columns=[\"Total Purchase Value\", \"Purchase Count\", \"Average Purchase Price\"]\n",
    "\n",
    "top_spenders_df = join_two[[\"Purchase Count\", \"Average Purchase Price\", \"Total Purchase Value\"]]\n",
    "top_spenders_final = top_spenders_df.sort_values('Total Purchase Value', ascending=False).head()\n",
    "top_spenders_final.style.format({\"Average Purchase Price\": \"${:.2f}\", \"Total Purchase Value\": \"${:.2f}\"})"
   ]
  },
  {
   "cell_type": "markdown",
   "metadata": {},
   "source": [
    "# Most Popular Items"
   ]
  },
  {
   "cell_type": "code",
   "execution_count": 43,
   "metadata": {},
   "outputs": [
    {
     "data": {
      "text/html": [
       "<style  type=\"text/css\" >\n",
       "</style>  \n",
       "<table id=\"T_4ca8e1e8_4ea1_11e9_8207_2816a86d7ac4\" > \n",
       "<thead>    <tr> \n",
       "        <th class=\"blank\" ></th> \n",
       "        <th class=\"blank level0\" ></th> \n",
       "        <th class=\"col_heading level0 col0\" >Purchase Count</th> \n",
       "        <th class=\"col_heading level0 col1\" >Item Price</th> \n",
       "        <th class=\"col_heading level0 col2\" >Total Purchase Value</th> \n",
       "    </tr>    <tr> \n",
       "        <th class=\"index_name level0\" >Item Name</th> \n",
       "        <th class=\"index_name level1\" >Item ID</th> \n",
       "        <th class=\"blank\" ></th> \n",
       "        <th class=\"blank\" ></th> \n",
       "        <th class=\"blank\" ></th> \n",
       "    </tr></thead> \n",
       "<tbody>    <tr> \n",
       "        <th id=\"T_4ca8e1e8_4ea1_11e9_8207_2816a86d7ac4level0_row0\" class=\"row_heading level0 row0\" >Oathbreaker, Last Hope of the Breaking Storm</th> \n",
       "        <th id=\"T_4ca8e1e8_4ea1_11e9_8207_2816a86d7ac4level1_row0\" class=\"row_heading level1 row0\" >178</th> \n",
       "        <td id=\"T_4ca8e1e8_4ea1_11e9_8207_2816a86d7ac4row0_col0\" class=\"data row0 col0\" >12</td> \n",
       "        <td id=\"T_4ca8e1e8_4ea1_11e9_8207_2816a86d7ac4row0_col1\" class=\"data row0 col1\" >$4.23</td> \n",
       "        <td id=\"T_4ca8e1e8_4ea1_11e9_8207_2816a86d7ac4row0_col2\" class=\"data row0 col2\" >$50.76</td> \n",
       "    </tr>    <tr> \n",
       "        <th id=\"T_4ca8e1e8_4ea1_11e9_8207_2816a86d7ac4level0_row1\" class=\"row_heading level0 row1\" >Nirvana</th> \n",
       "        <th id=\"T_4ca8e1e8_4ea1_11e9_8207_2816a86d7ac4level1_row1\" class=\"row_heading level1 row1\" >82</th> \n",
       "        <td id=\"T_4ca8e1e8_4ea1_11e9_8207_2816a86d7ac4row1_col0\" class=\"data row1 col0\" >9</td> \n",
       "        <td id=\"T_4ca8e1e8_4ea1_11e9_8207_2816a86d7ac4row1_col1\" class=\"data row1 col1\" >$4.90</td> \n",
       "        <td id=\"T_4ca8e1e8_4ea1_11e9_8207_2816a86d7ac4row1_col2\" class=\"data row1 col2\" >$44.10</td> \n",
       "    </tr>    <tr> \n",
       "        <th id=\"T_4ca8e1e8_4ea1_11e9_8207_2816a86d7ac4level0_row2\" class=\"row_heading level0 row2\" >Fiery Glass Crusader</th> \n",
       "        <th id=\"T_4ca8e1e8_4ea1_11e9_8207_2816a86d7ac4level1_row2\" class=\"row_heading level1 row2\" >145</th> \n",
       "        <td id=\"T_4ca8e1e8_4ea1_11e9_8207_2816a86d7ac4row2_col0\" class=\"data row2 col0\" >9</td> \n",
       "        <td id=\"T_4ca8e1e8_4ea1_11e9_8207_2816a86d7ac4row2_col1\" class=\"data row2 col1\" >$4.58</td> \n",
       "        <td id=\"T_4ca8e1e8_4ea1_11e9_8207_2816a86d7ac4row2_col2\" class=\"data row2 col2\" >$41.22</td> \n",
       "    </tr>    <tr> \n",
       "        <th id=\"T_4ca8e1e8_4ea1_11e9_8207_2816a86d7ac4level0_row3\" class=\"row_heading level0 row3\" >Extraction, Quickblade Of Trembling Hands</th> \n",
       "        <th id=\"T_4ca8e1e8_4ea1_11e9_8207_2816a86d7ac4level1_row3\" class=\"row_heading level1 row3\" >108</th> \n",
       "        <td id=\"T_4ca8e1e8_4ea1_11e9_8207_2816a86d7ac4row3_col0\" class=\"data row3 col0\" >9</td> \n",
       "        <td id=\"T_4ca8e1e8_4ea1_11e9_8207_2816a86d7ac4row3_col1\" class=\"data row3 col1\" >$3.53</td> \n",
       "        <td id=\"T_4ca8e1e8_4ea1_11e9_8207_2816a86d7ac4row3_col2\" class=\"data row3 col2\" >$31.77</td> \n",
       "    </tr>    <tr> \n",
       "        <th id=\"T_4ca8e1e8_4ea1_11e9_8207_2816a86d7ac4level0_row4\" class=\"row_heading level0 row4\" >Singed Scalpel</th> \n",
       "        <th id=\"T_4ca8e1e8_4ea1_11e9_8207_2816a86d7ac4level1_row4\" class=\"row_heading level1 row4\" >103</th> \n",
       "        <td id=\"T_4ca8e1e8_4ea1_11e9_8207_2816a86d7ac4row4_col0\" class=\"data row4 col0\" >8</td> \n",
       "        <td id=\"T_4ca8e1e8_4ea1_11e9_8207_2816a86d7ac4row4_col1\" class=\"data row4 col1\" >$4.35</td> \n",
       "        <td id=\"T_4ca8e1e8_4ea1_11e9_8207_2816a86d7ac4row4_col2\" class=\"data row4 col2\" >$34.80</td> \n",
       "    </tr>    <tr> \n",
       "        <th id=\"T_4ca8e1e8_4ea1_11e9_8207_2816a86d7ac4level0_row5\" class=\"row_heading level0 row5\" >Wolf</th> \n",
       "        <th id=\"T_4ca8e1e8_4ea1_11e9_8207_2816a86d7ac4level1_row5\" class=\"row_heading level1 row5\" >60</th> \n",
       "        <td id=\"T_4ca8e1e8_4ea1_11e9_8207_2816a86d7ac4row5_col0\" class=\"data row5 col0\" >8</td> \n",
       "        <td id=\"T_4ca8e1e8_4ea1_11e9_8207_2816a86d7ac4row5_col1\" class=\"data row5 col1\" >$3.54</td> \n",
       "        <td id=\"T_4ca8e1e8_4ea1_11e9_8207_2816a86d7ac4row5_col2\" class=\"data row5 col2\" >$28.32</td> \n",
       "    </tr></tbody> \n",
       "</table> "
      ],
      "text/plain": [
       "<pandas.io.formats.style.Styler at 0x1c9168f6978>"
      ]
     },
     "execution_count": 43,
     "metadata": {},
     "output_type": "execute_result"
    }
   ],
   "source": [
    "#merge dataframes to find purchase count, total purchase value for items\n",
    "#reset indices to dataframes can be merged on specific elements\n",
    "\n",
    "premergeone = df.groupby(\"Item Name\").sum().reset_index()\n",
    "premergetwo = df.groupby(\"Item ID\").sum().reset_index()\n",
    "premergethree = df.groupby(\"Item Name\").count().reset_index()\n",
    "\n",
    "#merge dataframes\n",
    "mergeone = pd.merge(premergeone, premergetwo, on=\"Price\")\n",
    "mergetwo = pd.merge(premergethree, mergeone, on=\"Item Name\")\n",
    "\n",
    "#start to create final dataframe by manipulating data\n",
    "mergetwo[\"Gender\"] = (mergetwo[\"Price_y\"]/mergetwo[\"Item ID\"]).round(2)\n",
    "\n",
    "mergetwo_renamed = mergetwo.rename(columns={\"Age\": \"Purchase Count\", \"Gender\": \"Item Price\", \"Item ID\": \"null\", \"Price_y\": \"Total Purchase Value\", \"Item ID_y\": \"Item ID\"})\n",
    "\n",
    "#grab columns we are looking for\n",
    "clean_df = mergetwo_renamed[[\"Item ID\", \"Item Name\", \"Purchase Count\", \"Item Price\", \"Total Purchase Value\"]]\n",
    "\n",
    "prefinal_df = clean_df.set_index(['Item Name', 'Item ID'])\n",
    "popular_items_final = prefinal_df.sort_values('Purchase Count', ascending=False).head(6)\n",
    "popular_items_final.style.format({\"Item Price\": \"${:.2f}\", \"Total Purchase Value\": \"${:.2f}\"})"
   ]
  },
  {
   "cell_type": "markdown",
   "metadata": {},
   "source": [
    "# Most Profitable Items"
   ]
  },
  {
   "cell_type": "code",
   "execution_count": 44,
   "metadata": {},
   "outputs": [
    {
     "data": {
      "text/html": [
       "<style  type=\"text/css\" >\n",
       "</style>  \n",
       "<table id=\"T_84371448_4ea1_11e9_a6c2_2816a86d7ac4\" > \n",
       "<thead>    <tr> \n",
       "        <th class=\"blank\" ></th> \n",
       "        <th class=\"blank level0\" ></th> \n",
       "        <th class=\"col_heading level0 col0\" >Purchase Count</th> \n",
       "        <th class=\"col_heading level0 col1\" >Item Price</th> \n",
       "        <th class=\"col_heading level0 col2\" >Total Purchase Value</th> \n",
       "    </tr>    <tr> \n",
       "        <th class=\"index_name level0\" >Item Name</th> \n",
       "        <th class=\"index_name level1\" >Item ID</th> \n",
       "        <th class=\"blank\" ></th> \n",
       "        <th class=\"blank\" ></th> \n",
       "        <th class=\"blank\" ></th> \n",
       "    </tr></thead> \n",
       "<tbody>    <tr> \n",
       "        <th id=\"T_84371448_4ea1_11e9_a6c2_2816a86d7ac4level0_row0\" class=\"row_heading level0 row0\" >Oathbreaker, Last Hope of the Breaking Storm</th> \n",
       "        <th id=\"T_84371448_4ea1_11e9_a6c2_2816a86d7ac4level1_row0\" class=\"row_heading level1 row0\" >178</th> \n",
       "        <td id=\"T_84371448_4ea1_11e9_a6c2_2816a86d7ac4row0_col0\" class=\"data row0 col0\" >12</td> \n",
       "        <td id=\"T_84371448_4ea1_11e9_a6c2_2816a86d7ac4row0_col1\" class=\"data row0 col1\" >$4.23</td> \n",
       "        <td id=\"T_84371448_4ea1_11e9_a6c2_2816a86d7ac4row0_col2\" class=\"data row0 col2\" >$50.76</td> \n",
       "    </tr>    <tr> \n",
       "        <th id=\"T_84371448_4ea1_11e9_a6c2_2816a86d7ac4level0_row1\" class=\"row_heading level0 row1\" >Nirvana</th> \n",
       "        <th id=\"T_84371448_4ea1_11e9_a6c2_2816a86d7ac4level1_row1\" class=\"row_heading level1 row1\" >82</th> \n",
       "        <td id=\"T_84371448_4ea1_11e9_a6c2_2816a86d7ac4row1_col0\" class=\"data row1 col0\" >9</td> \n",
       "        <td id=\"T_84371448_4ea1_11e9_a6c2_2816a86d7ac4row1_col1\" class=\"data row1 col1\" >$4.90</td> \n",
       "        <td id=\"T_84371448_4ea1_11e9_a6c2_2816a86d7ac4row1_col2\" class=\"data row1 col2\" >$44.10</td> \n",
       "    </tr>    <tr> \n",
       "        <th id=\"T_84371448_4ea1_11e9_a6c2_2816a86d7ac4level0_row2\" class=\"row_heading level0 row2\" >Fiery Glass Crusader</th> \n",
       "        <th id=\"T_84371448_4ea1_11e9_a6c2_2816a86d7ac4level1_row2\" class=\"row_heading level1 row2\" >145</th> \n",
       "        <td id=\"T_84371448_4ea1_11e9_a6c2_2816a86d7ac4row2_col0\" class=\"data row2 col0\" >9</td> \n",
       "        <td id=\"T_84371448_4ea1_11e9_a6c2_2816a86d7ac4row2_col1\" class=\"data row2 col1\" >$4.58</td> \n",
       "        <td id=\"T_84371448_4ea1_11e9_a6c2_2816a86d7ac4row2_col2\" class=\"data row2 col2\" >$41.22</td> \n",
       "    </tr>    <tr> \n",
       "        <th id=\"T_84371448_4ea1_11e9_a6c2_2816a86d7ac4level0_row3\" class=\"row_heading level0 row3\" >Singed Scalpel</th> \n",
       "        <th id=\"T_84371448_4ea1_11e9_a6c2_2816a86d7ac4level1_row3\" class=\"row_heading level1 row3\" >103</th> \n",
       "        <td id=\"T_84371448_4ea1_11e9_a6c2_2816a86d7ac4row3_col0\" class=\"data row3 col0\" >8</td> \n",
       "        <td id=\"T_84371448_4ea1_11e9_a6c2_2816a86d7ac4row3_col1\" class=\"data row3 col1\" >$4.35</td> \n",
       "        <td id=\"T_84371448_4ea1_11e9_a6c2_2816a86d7ac4row3_col2\" class=\"data row3 col2\" >$34.80</td> \n",
       "    </tr>    <tr> \n",
       "        <th id=\"T_84371448_4ea1_11e9_a6c2_2816a86d7ac4level0_row4\" class=\"row_heading level0 row4\" >Lightning, Etcher of the King</th> \n",
       "        <th id=\"T_84371448_4ea1_11e9_a6c2_2816a86d7ac4level1_row4\" class=\"row_heading level1 row4\" >59</th> \n",
       "        <td id=\"T_84371448_4ea1_11e9_a6c2_2816a86d7ac4row4_col0\" class=\"data row4 col0\" >8</td> \n",
       "        <td id=\"T_84371448_4ea1_11e9_a6c2_2816a86d7ac4row4_col1\" class=\"data row4 col1\" >$4.23</td> \n",
       "        <td id=\"T_84371448_4ea1_11e9_a6c2_2816a86d7ac4row4_col2\" class=\"data row4 col2\" >$33.84</td> \n",
       "    </tr></tbody> \n",
       "</table> "
      ],
      "text/plain": [
       "<pandas.io.formats.style.Styler at 0x1c9168e6198>"
      ]
     },
     "execution_count": 44,
     "metadata": {},
     "output_type": "execute_result"
    }
   ],
   "source": [
    "\n",
    "#use prefinal dataframe from prior to step to find most profitable items\n",
    "\n",
    "profit_items_final = prefinal_df.sort_values('Total Purchase Value', ascending=False).head()\n",
    "profit_items_final.style.format({\"Item Price\": \"${:.2f}\", \"Total Purchase Value\": \"${:.2f}\"})"
   ]
  },
  {
   "cell_type": "code",
   "execution_count": null,
   "metadata": {},
   "outputs": [],
   "source": []
  }
 ],
 "metadata": {
  "kernelspec": {
   "display_name": "Python 3",
   "language": "python",
   "name": "python3"
  },
  "language_info": {
   "codemirror_mode": {
    "name": "ipython",
    "version": 3
   },
   "file_extension": ".py",
   "mimetype": "text/x-python",
   "name": "python",
   "nbconvert_exporter": "python",
   "pygments_lexer": "ipython3",
   "version": "3.7.1"
  }
 },
 "nbformat": 4,
 "nbformat_minor": 2
}
